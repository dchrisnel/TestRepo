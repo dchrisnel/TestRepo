{
 "cells": [
  {
   "cell_type": "markdown",
   "id": "116ba17c-3038-47bd-9191-1bf7cd6be56e",
   "metadata": {},
   "source": [
    "# Data Science tools and Ecosystem"
   ]
  },
  {
   "cell_type": "markdown",
   "id": "9b1dcc55-f6e7-4d5f-b66b-0b43f69237ec",
   "metadata": {},
   "source": [
    "**Objectives:**\n",
    ". Popular languages for Data Scientists\n",
    ". commonly used libraries used by Data Scientists\n",
    ". Data Science Tools"
   ]
  },
  {
   "cell_type": "markdown",
   "id": "26f8c630-9b3c-4e92-807c-aeae3d17fd1b",
   "metadata": {},
   "source": [
    "In this notebook, Data Science Tools and Ecosystem are summarized."
   ]
  },
  {
   "cell_type": "markdown",
   "id": "5e3487eb-6608-4ed5-8cc0-333f5368811b",
   "metadata": {},
   "source": [
    "Some of the popular languages Data Scientists use are:\n",
    "1. Python\n",
    "2. R\n",
    "3. Julia\n",
    "4. MatLab"
   ]
  },
  {
   "cell_type": "markdown",
   "id": "05ed4bd4-f0d5-483c-99db-2e719073d187",
   "metadata": {},
   "source": [
    "Some of the commonly used libraries used by Data Scientists include:\n",
    "1. NumPy\n",
    "2. SciPy\n",
    "3. TensorFlow\n",
    "4. Pandas\n",
    "5. Matplotlib "
   ]
  },
  {
   "cell_type": "markdown",
   "id": "9a5fab53-06eb-447b-b6ae-5709a21045a5",
   "metadata": {},
   "source": [
    "|Data Science Tools|\n",
    "--------------------\n",
    "  Jupyter Notebook\n",
    "  RStudio\n",
    "  Spyder\n"
   ]
  },
  {
   "cell_type": "markdown",
   "id": "7204dafe-896a-423d-83a4-7d044e256335",
   "metadata": {},
   "source": [
    "### Below are a few examples of evaluating arithmetic expressions in Python"
   ]
  },
  {
   "cell_type": "code",
   "execution_count": 1,
   "id": "4914609b-4bda-4e2f-a33e-4c2bdadad314",
   "metadata": {},
   "outputs": [
    {
     "data": {
      "text/plain": [
       "17"
      ]
     },
     "execution_count": 1,
     "metadata": {},
     "output_type": "execute_result"
    }
   ],
   "source": [
    "# This a simple arithmetic expression to mutiply then add integers\n",
    "(3*4)+5"
   ]
  },
  {
   "cell_type": "code",
   "execution_count": 2,
   "id": "c6ec6f81-8f04-4221-9467-f4dc129ad697",
   "metadata": {},
   "outputs": [
    {
     "data": {
      "text/plain": [
       "3.3333333333333335"
      ]
     },
     "execution_count": 2,
     "metadata": {},
     "output_type": "execute_result"
    }
   ],
   "source": [
    "# This will convert 200 minutes to hours by diving by 60\n",
    "200/60"
   ]
  },
  {
   "cell_type": "markdown",
   "id": "68ee406f-b4df-4bbd-bcaa-7918016cf024",
   "metadata": {},
   "source": [
    "## Author ##\n",
    "Chrisnel DESIR"
   ]
  }
 ],
 "metadata": {
  "kernelspec": {
   "display_name": "Python 3 (ipykernel)",
   "language": "python",
   "name": "python3"
  },
  "language_info": {
   "codemirror_mode": {
    "name": "ipython",
    "version": 3
   },
   "file_extension": ".py",
   "mimetype": "text/x-python",
   "name": "python",
   "nbconvert_exporter": "python",
   "pygments_lexer": "ipython3",
   "version": "3.12.4"
  }
 },
 "nbformat": 4,
 "nbformat_minor": 5
}
